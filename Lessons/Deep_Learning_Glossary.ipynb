{
 "cells": [
  {
   "cell_type": "markdown",
   "metadata": {},
   "source": [
    "# Deep Learning Glossary\n",
    "We will learn about deep learning components and terminologies"
   ]
  },
  {
   "cell_type": "markdown",
   "metadata": {},
   "source": [
    "### Activation Function\n",
    "- To allow Neural Networks to learn complex decision boundaries\n",
    "- we apply a nonlinear activation function to some of its layers\n",
    "- Commonly used functions include:\n",
    "    - softmax, sigmoid, tanh, ReLU (Rectified Linear Unit) and variants of these\n",
    "\n",
    "`model = Sequential()\n",
    "model.add(Dense(1, activation='sigmoid', input_dim=x.shape[1]))`"
   ]
  },
  {
   "cell_type": "markdown",
   "metadata": {},
   "source": [
    "### Loss Function (Cost Function)\n",
    "When we build a neural network, the neural network tries to predict the output as close as possible to the actual value\n",
    "\n",
    "- For prediction type problem the cost functions are:\n",
    "    - MSE, MAE, ...\n",
    "    - `model.compile(optimizer='rmsprop', loss='mse')`\n",
    "    \n",
    "- For classification type problem the cost functions are:\n",
    "    - Categorical Cross-Entropy, Binary Cross-Entropy\n",
    "    - `model.compile(optimizer='rmsprop', loss='binary_crossentropy')`"
   ]
  },
  {
   "cell_type": "markdown",
   "metadata": {},
   "source": [
    "### Algorithms (or Optimization Methods) to Minimize Error\n",
    "- **Gradient Descent:** To think of it intuitively, while climbing down a hill you should take small steps and walk down instead of just jumping down at once. Therefore, what we do is, if we start from a point x, we move down a little i.e. delta h, and update our position to x-delta h and we keep doing the same till we reach the bottom\n",
    "\n",
    "- **Stochastic gradient descent (SGD)**\n",
    "\n",
    "- **Learning rate:** Both GD and SGD need learning rate to adjust the new weight\n",
    "    - w1_new= w1 + (learning rate)* (derivative of cost function wrt w1)\n",
    "    - RMSprop, Adagrad, Adadelta, Adam, Adamax, Nadam"
   ]
  },
  {
   "cell_type": "markdown",
   "metadata": {},
   "source": [
    "### Dropout\n",
    "- Dropout is a regularization technique for Neural Networks that prevents overfitting\n",
    "- `model.add(Dropout(0.25))`\n",
    "\n",
    "![Applying Dropout to NN](../images/dropout.png)"
   ]
  },
  {
   "cell_type": "markdown",
   "metadata": {},
   "source": [
    "### Epoch and Batch\n",
    "- Epoch is when an ENTIRE dataset is passed forward and backward through the neural network\n",
    "    - `model.fit(x, y, epochs=10, validation_data=(x_val, y_val))`\n",
    "    \n",
    "- Batch is number of samples per gradient update\n",
    "    - `model.fit(x, y, batch_size=2, epochs=10)`"
   ]
  },
  {
   "cell_type": "markdown",
   "metadata": {},
   "source": [
    "### Batch Normalization\n",
    "- Batch Normalization is a technique that normalizes the data even at hidden layers\n",
    "- `model.add(BatchNormalization())`"
   ]
  },
  {
   "cell_type": "markdown",
   "metadata": {},
   "source": [
    "## Activity: Apply NN with Keras on iris data\n",
    "- Use 100 samples for training and 50 samples for validation\n",
    "- Set the value of epoch to 5\n",
    "- Change the batch_size value from 1 to 100 and plot the accuracy versus batch_size\n",
    "- Change the verbose to 0, 1 and 2"
   ]
  },
  {
   "cell_type": "code",
   "execution_count": 1,
   "metadata": {},
   "outputs": [
    {
     "name": "stderr",
     "output_type": "stream",
     "text": [
      "Using TensorFlow backend.\n"
     ]
    }
   ],
   "source": [
    "from keras.layers import Input, Dense\n",
    "from keras.models import Model\n",
    "from keras.utils import np_utils\n",
    "from sklearn.preprocessing import LabelEncoder\n",
    "from sklearn import datasets\n",
    "from sklearn.model_selection import train_test_split\n",
    "\n",
    "\n",
    "iris = datasets.load_iris()\n",
    "X, y = iris.data, iris.target\n",
    "\n",
    "X_train, X_test, y_train, y_test = train_test_split(X, y, test_size=0.3, random_state=0)\n",
    "\n",
    "y_train_one_hot = np_utils.to_categorical(y_train)\n",
    "y_test_one_hot = np_utils.to_categorical(y_test)\n",
    "\n",
    "inp = Input(shape=(4,))\n",
    "x = Dense(16, activation='sigmoid')(inp)\n",
    "out = Dense(3, activation='softmax')(x)\n",
    "model = Model(inputs=inp, outputs=out)"
   ]
  },
  {
   "cell_type": "code",
   "execution_count": 2,
   "metadata": {},
   "outputs": [
    {
     "data": {
      "text/plain": [
       "[<matplotlib.lines.Line2D at 0x1a450de450>]"
      ]
     },
     "execution_count": 2,
     "metadata": {},
     "output_type": "execute_result"
    },
    {
     "data": {
      "image/png": "[encoded data removed]",
      "text/plain": [
       "<Figure size 432x288 with 1 Axes>"
      ]
     },
     "metadata": {
      "needs_background": "light"
     },
     "output_type": "display_data"
    }
   ],
   "source": [
    "import matplotlib.pyplot as plt\n",
    "\n",
    "batch_sizes = list(range(1, 101))\n",
    "accuracies = []\n",
    "for i in batch_sizes:\n",
    "    model.compile(optimizer='adam', loss='categorical_crossentropy', metrics=['accuracy'])\n",
    "    model.fit(X_train, y_train_one_hot, epochs=5, batch_size=i, verbose=0)\n",
    "    loss, accuracy = model.evaluate(X_test, y_test_one_hot, verbose=0)\n",
    "    accuracies.append(accuracy)\n",
    "    \n",
    "plt.plot(batch_sizes, accuracies)"
   ]
  },
  {
   "cell_type": "markdown",
   "metadata": {},
   "source": [
    "## Activity: Apply Lambda Layer in Keras and test how it works\n",
    "- Write a code that takes a array with size 3 and apply a Lambda Layer in Keras to double the arrays elements"
   ]
  },
  {
   "cell_type": "code",
   "execution_count": 3,
   "metadata": {},
   "outputs": [
    {
     "name": "stdout",
     "output_type": "stream",
     "text": [
      "[[10. 24.  2.]]\n"
     ]
    },
    {
     "name": "stderr",
     "output_type": "stream",
     "text": [
      "/Users/tannerwyork/anaconda3/lib/python3.7/site-packages/ipykernel_launcher.py:8: UserWarning: Update your `Model` call to the Keras 2 API: `Model(inputs=Tensor(\"in..., outputs=Tensor(\"la...)`\n",
      "  \n"
     ]
    }
   ],
   "source": [
    "from keras.layers import Lambda, Input\n",
    "from keras.models import Model\n",
    "import numpy as np\n",
    "\n",
    "input = Input(shape=(3,))\n",
    "double = Lambda(lambda x: 2 * x)(input)\n",
    "\n",
    "model = Model(input=input, output=double)\n",
    "model.compile(optimizer='sgd', loss='mse')\n",
    "\n",
    "data = np.array([[5, 12, 1]])\n",
    "print(model.predict(data))"
   ]
  },
  {
   "cell_type": "code",
   "execution_count": null,
   "metadata": {},
   "outputs": [],
   "source": []
  }
 ],
 "metadata": {
  "kernelspec": {
   "display_name": "Python 3",
   "language": "python",
   "name": "python3"
  },
  "language_info": {
   "codemirror_mode": {
    "name": "ipython",
    "version": 3
   },
   "file_extension": ".py",
   "mimetype": "text/x-python",
   "name": "python",
   "nbconvert_exporter": "python",
   "pygments_lexer": "ipython3",
   "version": "3.7.6"
  }
 },
 "nbformat": 4,
 "nbformat_minor": 4
}
