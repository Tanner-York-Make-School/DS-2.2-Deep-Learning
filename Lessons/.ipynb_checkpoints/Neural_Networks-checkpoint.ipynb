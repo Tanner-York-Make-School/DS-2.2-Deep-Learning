{
 "cells": [
  {
   "cell_type": "markdown",
   "metadata": {},
   "source": [
    "# Neural Networks\n",
    "\n",
    "**Neural Network (NN) -** a computational system inspired by the Structure, Processing Method and Learning Ability similar to our biological brain\n",
    "\n",
    "### Characteristics of an Artifical Neural Network \n",
    "- A large number of simple, neuron-like processing elements that are connected together\n",
    "- Distrobudted representation of knowledge of those elements and their connections that's acquired by some learning process\n",
    "\n",
    "### The Foundations Neural Networks Are Based On\n",
    "**Perceptron -** anything that takes in multiple inputs and creates one output <br>\n",
    "**Multi-layer Perceptron -** a stack of perceptions that are connected together\n",
    "\n",
    "![Multi-layer Perception](\"../Images/MLP\")"
   ]
  },
  {
   "cell_type": "code",
   "execution_count": null,
   "metadata": {},
   "outputs": [],
   "source": []
  }
 ],
 "metadata": {
  "kernelspec": {
   "display_name": "Python 3",
   "language": "python",
   "name": "python3"
  },
  "language_info": {
   "codemirror_mode": {
    "name": "ipython",
    "version": 3
   },
   "file_extension": ".py",
   "mimetype": "text/x-python",
   "name": "python",
   "nbconvert_exporter": "python",
   "pygments_lexer": "ipython3",
   "version": "3.7.6"
  }
 },
 "nbformat": 4,
 "nbformat_minor": 4
}
