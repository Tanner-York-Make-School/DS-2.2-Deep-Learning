{
 "cells": [
  {
   "cell_type": "markdown",
   "metadata": {},
   "source": [
    "# Introduction to Keras"
   ]
  },
  {
   "cell_type": "markdown",
   "metadata": {},
   "source": [
    "## Types of Deep Learning Platforms in Python\n",
    "   **Keras** - François Chollet & Google <br>\n",
    "   **Tensorflow** - Google <br>\n",
    "   **Pytorch** - Colleges & Facebook <br>\n",
    "   **Caffe** <br>\n",
    "   **Theano** - Monteral University <br>\n",
    "   **MXNET** - Amazon <br>"
   ]
  },
  {
   "cell_type": "markdown",
   "metadata": {},
   "source": [
    "## Why do we use Keras?\n",
    "- A focus on user experience, easy to build and train a deep learning model\n",
    "- Easy to learn and easy to use\n",
    "- Large adoption in the industry and research community\n",
    "- Multi-backend, multi-platform\n",
    "- Easy productization of models\n",
    "\n",
    "![Keras build n=on top of tensorflow](../Images/why_keras.png)"
   ]
  },
  {
   "cell_type": "markdown",
   "metadata": {},
   "source": [
    "## Keras has two API styles\n",
    "\n",
    "### Sequential\n",
    "   - Very simple\n",
    "   - Only for a single-input, single-output, sequential layer stacks\n",
    "   - Good for 70% of use cases\n",
    "    \n",
    "![Sequential API Image](../images/keras_sequential_api_2.png)\n",
    "\n",
    "\n",
    "### Functional\n",
    "   - Like playing with Lego bricks\n",
    "   - Multi-input, multi-output, arbitrary static graph topologies\n",
    "   - Good for 95% of use cases\n",
    "   \n",
    " ![Function API Example Image](../images/keras_functional_api_2.png)"
   ]
  },
  {
   "cell_type": "markdown",
   "metadata": {},
   "source": [
    "## Activity: Apply NN with Keras on iris data with Sequential API\n",
    "- Use 70 percent of data for train\n",
    "- Use one-hot encoding for labels with from keras.utils import np_utils\n",
    "- Define two layers fully connected network\n",
    "- Define categorical_crossentropy as the loss (cost) function\n"
   ]
  },
  {
   "cell_type": "code",
   "execution_count": 1,
   "metadata": {},
   "outputs": [
    {
     "name": "stderr",
     "output_type": "stream",
     "text": [
      "Using TensorFlow backend.\n"
     ]
    },
    {
     "name": "stdout",
     "output_type": "stream",
     "text": [
      "Accuracy: 0.9777777791023254\n"
     ]
    }
   ],
   "source": [
    "from keras.models import Sequential\n",
    "from keras.layers.core import Dense, Activation\n",
    "from keras.utils import np_utils\n",
    "from sklearn.preprocessing import LabelEncoder\n",
    "from sklearn import datasets\n",
    "from sklearn.model_selection import train_test_split\n",
    "\n",
    "iris = datasets.load_iris()\n",
    "X, y = iris.data, iris.target\n",
    "\n",
    "X_train, X_test, y_train, y_test = train_test_split(X, y, test_size=0.3, random_state=0)\n",
    "\n",
    "y_train_one_hot = np_utils.to_categorical(y_train)\n",
    "y_test_one_hot = np_utils.to_categorical(y_test)\n",
    "\n",
    "model = Sequential()\n",
    "model.add(Dense(16, input_shape=(4,)))\n",
    "model.add(Activation('sigmoid'))\n",
    "# We use three here because we have three classes in the iris dataest\n",
    "model.add(Dense(3))\n",
    "model.add(Activation('softmax'))\n",
    "model.compile(optimizer='adam', loss='categorical_crossentropy', metrics=['accuracy'])\n",
    "model.fit(X_train, y_train_one_hot, epochs=100, batch_size=1, verbose=0)\n",
    "loss, accuracy = model.evaluate(X_test, y_test_one_hot, verbose=0)\n",
    "print('Accuracy:', accuracy)"
   ]
  },
  {
   "cell_type": "markdown",
   "metadata": {},
   "source": [
    "## Activity: Apply NN with Keras on iris data with Functional API"
   ]
  },
  {
   "cell_type": "code",
   "execution_count": 2,
   "metadata": {},
   "outputs": [
    {
     "name": "stdout",
     "output_type": "stream",
     "text": [
      "Accuracy: 0.9777777791023254\n"
     ]
    }
   ],
   "source": [
    "from keras.layers import Input, Dense\n",
    "from keras.models import Model\n",
    "from keras.utils import np_utils\n",
    "from sklearn.preprocessing import LabelEncoder\n",
    "from sklearn import datasets\n",
    "from sklearn.model_selection import train_test_split\n",
    "\n",
    "iris = datasets.load_iris()\n",
    "X, y = iris.data, iris.target\n",
    "\n",
    "X_train, X_test, y_train, y_test = train_test_split(X, y, test_size=0.3, random_state=0)\n",
    "\n",
    "y_train_one_hot = np_utils.to_categorical(y_train)\n",
    "y_test_one_hot = np_utils.to_categorical(y_test)\n",
    "\n",
    "# print(y_one_hot)\n",
    "\n",
    "inp = Input(shape=(4,))\n",
    "x = Dense(16, activation='sigmoid')(inp)\n",
    "out = Dense(3, activation='softmax')(x)\n",
    "model = Model(inputs=inp, outputs= out)\n",
    "model.compile(optimizer='adam', loss='categorical_crossentropy', metrics=[\"accuracy\"])\n",
    "model.fit(X_train, y_train_one_hot, epochs=100, batch_size=1, verbose=0);\n",
    "loss, accuracy = model.evaluate(X_test, y_test_one_hot, verbose=0)\n",
    "print('Accuracy:', accuracy)"
   ]
  },
  {
   "cell_type": "markdown",
   "metadata": {},
   "source": [
    "## Appropriate Loss Function\n",
    "- When we have two class calssification problem\n",
    "\n",
    "    - The loss function should be binary_crossentropy\n",
    "    - We need one output neuron\n",
    "    - The activation function of last layer would be sigmoid\n",
    "    - When we have multi-class calssification problem\n",
    "\n",
    "- The loss function should be categorical_crossentropy\n",
    "    - We need N output neuron where N is the number of classes we have\n",
    "    - The activation function of last layer would be softmax\n",
    "    - When we have regression problem\n",
    "\n",
    "- The loss function should be mse or mae\n",
    "    - We need one output neuron\n",
    "    - The activation function of last layer would be linear"
   ]
  },
  {
   "cell_type": "code",
   "execution_count": null,
   "metadata": {},
   "outputs": [],
   "source": []
  }
 ],
 "metadata": {
  "kernelspec": {
   "display_name": "Python 3",
   "language": "python",
   "name": "python3"
  },
  "language_info": {
   "codemirror_mode": {
    "name": "ipython",
    "version": 3
   },
   "file_extension": ".py",
   "mimetype": "text/x-python",
   "name": "python",
   "nbconvert_exporter": "python",
   "pygments_lexer": "ipython3",
   "version": "3.7.6"
  }
 },
 "nbformat": 4,
 "nbformat_minor": 4
}
