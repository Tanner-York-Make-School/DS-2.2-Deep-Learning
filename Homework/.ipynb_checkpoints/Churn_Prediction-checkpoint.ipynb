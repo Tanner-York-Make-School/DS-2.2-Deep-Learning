{
 "cells": [
  {
   "cell_type": "markdown",
   "metadata": {},
   "source": [
    "# Churn Prediction\n",
    "\n",
    "- Data and Business Problem: Our basic aim is to predict customer churn for a certain bank i.e. which customer is going to leave this bank service. \n",
    "\n",
    "- Dataset is small(for learning purpose) and contains 10000 rows with 14 columns.\n",
    "\n",
    "- Do Label Encoding for both Geography and Gender and One Hot Encoding for Geography (Categorical columns)\n",
    "\n",
    "- Do Feature Scaling (Standard Scaling)\n",
    "\n",
    "- Use 80 percent of the data for training and 20 percent for test\n",
    "\n",
    "- Lets have two hidden layers with 6 neurons at each, and an output layer. Batch_size=32, epochs=10\n"
   ]
  },
  {
   "cell_type": "markdown",
   "metadata": {},
   "source": [
    "## Data Preprocessing"
   ]
  },
  {
   "cell_type": "code",
   "execution_count": 1,
   "metadata": {},
   "outputs": [
    {
     "name": "stderr",
     "output_type": "stream",
     "text": [
      "Using TensorFlow backend.\n"
     ]
    }
   ],
   "source": [
    "import pandas as pd\n",
    "from sklearn.preprocessing import LabelEncoder, OneHotEncoder\n",
    "from sklearn.model_selection import train_test_split\n",
    "from sklearn.preprocessing import StandardScaler\n",
    "import keras\n",
    "from keras.models import Sequential\n",
    "from keras.layers import Dense\n",
    "from sklearn.metrics import confusion_matrix\n",
    "\n",
    "# Load data and sepearate features and labels\n",
    "df = pd.read_csv('../Data/Churn_Modelling.csv')\n",
    "features = df.iloc[:, 3:13]\n",
    "labels = df.iloc[:, 13]\n",
    "\n",
    "# Label Encoding \n",
    "freatures_onehot = pd.get_dummies(features)\n",
    "\n",
    "# Split data into train and test data\n",
    "x_train, x_test, y_train, y_test = train_test_split(freatures_onehot, labels, train_size=0.80)\n",
    "\n",
    "# Scale data with standard scalar\n",
    "scaler = StandardScaler()\n",
    "x_train_scaled = scaler.fit_transform(x_train)\n",
    "x_test_scaled = scaler.transform(x_test)"
   ]
  },
  {
   "cell_type": "markdown",
   "metadata": {},
   "source": [
    "## Model Creation"
   ]
  },
  {
   "cell_type": "code",
   "execution_count": 2,
   "metadata": {},
   "outputs": [
    {
     "name": "stdout",
     "output_type": "stream",
     "text": [
      "Epoch 1/10\n",
      "200/200 [==============================] - 0s 2ms/step - loss: 0.2072 - accuracy: 0.7973 - val_loss: 0.1563 - val_accuracy: 0.7794\n",
      "Epoch 2/10\n",
      "200/200 [==============================] - 0s 1ms/step - loss: 0.1432 - accuracy: 0.7989 - val_loss: 0.1480 - val_accuracy: 0.7794\n",
      "Epoch 3/10\n",
      "200/200 [==============================] - 0s 1ms/step - loss: 0.1380 - accuracy: 0.7989 - val_loss: 0.1444 - val_accuracy: 0.7794\n",
      "Epoch 4/10\n",
      "200/200 [==============================] - 0s 1ms/step - loss: 0.1350 - accuracy: 0.7989 - val_loss: 0.1432 - val_accuracy: 0.7794\n",
      "Epoch 5/10\n",
      "200/200 [==============================] - 0s 1ms/step - loss: 0.1329 - accuracy: 0.7992 - val_loss: 0.1400 - val_accuracy: 0.7950\n",
      "Epoch 6/10\n",
      "200/200 [==============================] - 0s 1ms/step - loss: 0.1311 - accuracy: 0.8231 - val_loss: 0.1396 - val_accuracy: 0.8012\n",
      "Epoch 7/10\n",
      "200/200 [==============================] - 0s 1ms/step - loss: 0.1295 - accuracy: 0.8300 - val_loss: 0.1377 - val_accuracy: 0.8081\n",
      "Epoch 8/10\n",
      "200/200 [==============================] - 0s 1ms/step - loss: 0.1281 - accuracy: 0.8342 - val_loss: 0.1362 - val_accuracy: 0.8138\n",
      "Epoch 9/10\n",
      "200/200 [==============================] - 0s 1ms/step - loss: 0.1268 - accuracy: 0.8347 - val_loss: 0.1357 - val_accuracy: 0.8175\n",
      "Epoch 10/10\n",
      "200/200 [==============================] - 0s 1ms/step - loss: 0.1256 - accuracy: 0.8363 - val_loss: 0.1349 - val_accuracy: 0.8213\n"
     ]
    },
    {
     "data": {
      "text/plain": [
       "<tensorflow.python.keras.callbacks.History at 0x136f45450>"
      ]
     },
     "execution_count": 2,
     "metadata": {},
     "output_type": "execute_result"
    }
   ],
   "source": [
    "def define_model():\n",
    "    model = Sequential([\n",
    "        Dense(6, activation='relu', kernel_initializer='uniform', input_shape=(13,)),\n",
    "        Dense(6, activation='relu', kernel_initializer='uniform'),\n",
    "        Dense(1, activation='sigmoid', kernel_initializer='uniform')\n",
    "    ])\n",
    "    model.compile(optimizer='adam', loss='mean_squared_error', metrics=['accuracy'])\n",
    "    return model\n",
    "\n",
    "model = define_model()\n",
    "model.fit(x_train_scaled, y_train, batch_size=32, epochs=10, validation_split=0.2)"
   ]
  },
  {
   "cell_type": "markdown",
   "metadata": {},
   "source": [
    "## Model Evaluation"
   ]
  },
  {
   "cell_type": "code",
   "execution_count": 3,
   "metadata": {},
   "outputs": [
    {
     "data": {
      "text/plain": [
       "array([[1603,    0],\n",
       "       [ 397,    0]])"
      ]
     },
     "execution_count": 3,
     "metadata": {},
     "output_type": "execute_result"
    }
   ],
   "source": [
    "y_pred = model.predict(x_test)\n",
    "y_pred = (y_pred > 0.7)\n",
    "matrix = confusion_matrix(y_test, y_pred)\n",
    "matrix"
   ]
  },
  {
   "cell_type": "code",
   "execution_count": null,
   "metadata": {},
   "outputs": [],
   "source": []
  }
 ],
 "metadata": {
  "kernelspec": {
   "display_name": "Python 3",
   "language": "python",
   "name": "python3"
  },
  "language_info": {
   "codemirror_mode": {
    "name": "ipython",
    "version": 3
   },
   "file_extension": ".py",
   "mimetype": "text/x-python",
   "name": "python",
   "nbconvert_exporter": "python",
   "pygments_lexer": "ipython3",
   "version": "3.7.7"
  }
 },
 "nbformat": 4,
 "nbformat_minor": 4
}
