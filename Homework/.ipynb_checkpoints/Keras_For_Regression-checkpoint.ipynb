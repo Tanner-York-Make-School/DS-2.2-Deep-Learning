{
 "cells": [
  {
   "cell_type": "markdown",
   "metadata": {},
   "source": [
    "# Regression With Keras"
   ]
  },
  {
   "cell_type": "code",
   "execution_count": 1,
   "metadata": {},
   "outputs": [
    {
     "name": "stderr",
     "output_type": "stream",
     "text": [
      "Using TensorFlow backend.\n"
     ]
    }
   ],
   "source": [
    "import pandas as pd\n",
    "from keras.models import Sequential\n",
    "from keras.layers import Dense\n",
    "from keras.wrappers.scikit_learn import KerasRegressor\n",
    "from sklearn.datasets import load_boston\n",
    "from sklearn.model_selection import cross_val_score, KFold, train_test_split\n",
    "from sklearn.metrics import mean_squared_error\n",
    "from sklearn.preprocessing import StandardScaler\n",
    "from sklearn.pipeline import Pipeline\n",
    "from sklearn.linear_model import LinearRegression"
   ]
  },
  {
   "cell_type": "markdown",
   "metadata": {},
   "source": [
    "## Linear Regression"
   ]
  },
  {
   "cell_type": "code",
   "execution_count": 2,
   "metadata": {},
   "outputs": [],
   "source": [
    "# Load dataset\n",
    "boston_data = load_boston()\n",
    "boston_data\n",
    "\n",
    "# Create pandas dataframe\n",
    "boston = pd.DataFrame(boston_data.data, columns=boston_data.feature_names)\n",
    "boston\n",
    "\n",
    "# Split into train and test data\n",
    "X_train, X_test, y_train, y_test = train_test_split(boston, boston_data.target, test_size=0.2, random_state=1)"
   ]
  },
  {
   "cell_type": "code",
   "execution_count": 3,
   "metadata": {},
   "outputs": [
    {
     "name": "stdout",
     "output_type": "stream",
     "text": [
      "MSE: 23.38083648026999\n"
     ]
    }
   ],
   "source": [
    "# Create baseline sklearn model for comparision \n",
    "basic_reg = LinearRegression()\n",
    "basic_reg.fit(X_train, y_train)\n",
    "\n",
    "y_pred = basic_reg.predict(X_test)\n",
    "print('MSE:', mean_squared_error(y_test, y_pred))"
   ]
  },
  {
   "cell_type": "code",
   "execution_count": 4,
   "metadata": {},
   "outputs": [
    {
     "data": {
      "text/plain": [
       "<tensorflow.python.keras.callbacks.History at 0x136ba33d0>"
      ]
     },
     "execution_count": 4,
     "metadata": {},
     "output_type": "execute_result"
    }
   ],
   "source": [
    "# Create linear regression model\n",
    "def linear_model():\n",
    "    model = Sequential()\n",
    "    model.add(Dense(13, input_dim=13, kernel_initializer='normal', activation='relu'))\n",
    "    model.add(Dense(1, kernel_initializer='normal'))\n",
    "    model.compile(loss='mean_squared_error', optimizer='adam')\n",
    "    return model\n",
    "\n",
    "# Create a model to estimate linear_model \n",
    "train_estimator = KerasRegressor(build_fn=linear_model, epochs=100, batch_size=5, verbose=0)\n",
    "test_estimator = KerasRegressor(build_fn=linear_model, epochs=100, batch_size=5, verbose=0)\n",
    "test_estimator.fit(X_train, y_train)"
   ]
  },
  {
   "cell_type": "code",
   "execution_count": 5,
   "metadata": {},
   "outputs": [
    {
     "name": "stdout",
     "output_type": "stream",
     "text": [
      "Train MSE: 27.093470287322997\n",
      "Test MSE: 20.33682469599655\n"
     ]
    }
   ],
   "source": [
    "# Evaluate linear regression model\n",
    "kfold = KFold(n_splits=10)\n",
    "results = cross_val_score(train_estimator, X_train, y_train, cv=kfold)\n",
    "print(\"Train MSE:\", results.mean()* -1)\n",
    "\n",
    "y_pred = test_estimator.predict(X_test)\n",
    "print('Test MSE:', mean_squared_error(y_pred, y_test))"
   ]
  },
  {
   "cell_type": "markdown",
   "metadata": {},
   "source": [
    "## Logistic Regression"
   ]
  },
  {
   "cell_type": "code",
   "execution_count": 6,
   "metadata": {},
   "outputs": [],
   "source": [
    "# Create pandas dataframe\n",
    "diabetes = pd.read_csv('../Data/diabetes.csv')\n",
    "diabetes\n",
    "\n",
    "# Split into train and test data\n",
    "X_train, X_test, y_train, y_test = train_test_split(diabetes.drop(columns=['Outcome']), diabetes['Outcome'], test_size=0.2, random_state=1)"
   ]
  },
  {
   "cell_type": "code",
   "execution_count": 7,
   "metadata": {},
   "outputs": [
    {
     "data": {
      "text/plain": [
       "<tensorflow.python.keras.callbacks.History at 0x1377bafd0>"
      ]
     },
     "execution_count": 7,
     "metadata": {},
     "output_type": "execute_result"
    }
   ],
   "source": [
    "# Create Logistic Model\n",
    "def log_model():\n",
    "    model = Sequential()\n",
    "    model.add(Dense(8, input_dim=8, kernel_initializer='normal', activation='softmax'))\n",
    "    model.add(Dense(1, kernel_initializer='normal'))\n",
    "    model.compile(loss='mean_squared_error', optimizer='adam')\n",
    "    return model\n",
    "\n",
    "# Create a model to estimate linear_model \n",
    "train_estimator = KerasRegressor(build_fn=log_model, epochs=100, batch_size=5, verbose=0)\n",
    "test_estimator = KerasRegressor(build_fn=log_model, epochs=100, batch_size=5, verbose=0)\n",
    "test_estimator.fit(X_train, y_train)"
   ]
  },
  {
   "cell_type": "code",
   "execution_count": 8,
   "metadata": {},
   "outputs": [
    {
     "name": "stdout",
     "output_type": "stream",
     "text": [
      "Train MSE: 0.20133467614650727\n",
      "Test MSE: 0.21286271779277952\n"
     ]
    }
   ],
   "source": [
    "# Evaluate logistic regression model\n",
    "kfold = KFold(n_splits=10)\n",
    "results = cross_val_score(train_estimator, X_train, y_train, cv=kfold)\n",
    "print(\"Train MSE:\", results.mean()* -1)\n",
    "\n",
    "y_pred = test_estimator.predict(X_test)\n",
    "print('Test MSE:', mean_squared_error(y_pred, y_test))"
   ]
  },
  {
   "cell_type": "code",
   "execution_count": null,
   "metadata": {},
   "outputs": [],
   "source": []
  }
 ],
 "metadata": {
  "kernelspec": {
   "display_name": "Python 3",
   "language": "python",
   "name": "python3"
  },
  "language_info": {
   "codemirror_mode": {
    "name": "ipython",
    "version": 3
   },
   "file_extension": ".py",
   "mimetype": "text/x-python",
   "name": "python",
   "nbconvert_exporter": "python",
   "pygments_lexer": "ipython3",
   "version": "3.7.7"
  }
 },
 "nbformat": 4,
 "nbformat_minor": 4
}
